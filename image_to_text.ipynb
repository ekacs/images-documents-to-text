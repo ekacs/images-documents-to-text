{
  "nbformat": 4,
  "nbformat_minor": 0,
  "metadata": {
    "colab": {
      "provenance": [],
      "include_colab_link": true
    },
    "kernelspec": {
      "name": "python3",
      "display_name": "Python 3"
    },
    "language_info": {
      "name": "python"
    }
  },
  "cells": [
    {
      "cell_type": "markdown",
      "metadata": {
        "id": "view-in-github",
        "colab_type": "text"
      },
      "source": [
        "<a href=\"https://colab.research.google.com/github/ekacs/images-documents-to-text/blob/main/image_to_text.ipynb\" target=\"_parent\"><img src=\"https://colab.research.google.com/assets/colab-badge.svg\" alt=\"Open In Colab\"/></a>"
      ]
    },
    {
      "cell_type": "code",
      "source": [
        "!pip install pytesseract\n",
        "!sudo apt install tesseract-ocr"
      ],
      "metadata": {
        "id": "ZkxEDI2i4vVn"
      },
      "execution_count": null,
      "outputs": []
    },
    {
      "cell_type": "code",
      "execution_count": null,
      "metadata": {
        "id": "m5u2CUH6v1mU"
      },
      "outputs": [],
      "source": [
        "import pytesseract\n",
        "from PIL import Image\n",
        "\n",
        "# Baca gambar\n",
        "image_path = \"/content/Untitled2_006.jpg\"  # Ganti dengan path gambar Anda\n",
        "image = Image.open(image_path)\n",
        "\n",
        "# Lakukan OCR\n",
        "text = pytesseract.image_to_string(image)\n",
        "\n",
        "print(\"Hasil OCR:\")\n",
        "print(text)"
      ]
    },
    {
      "cell_type": "code",
      "source": [
        "#Simpan hasil OCR ke dalam file teks\n",
        "output_path = \"/content/Untitled1_024.txt\"\n",
        "with open(output_path, \"w\") as text_file:\n",
        "    text_file.write(text)"
      ],
      "metadata": {
        "id": "zoxbLQVYreUJ"
      },
      "execution_count": null,
      "outputs": []
    }
  ]
}